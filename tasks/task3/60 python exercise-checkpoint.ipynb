{
 "cells": [
  {
   "cell_type": "markdown",
   "id": "759d04ba",
   "metadata": {},
   "source": [
    "**1-Write a Python program to calculate the length of a string using 2 ways"
   ]
  },
  {
   "cell_type": "code",
   "execution_count": 1,
   "id": "e434c950",
   "metadata": {},
   "outputs": [
    {
     "data": {
      "text/plain": [
       "9"
      ]
     },
     "execution_count": 1,
     "metadata": {},
     "output_type": "execute_result"
    }
   ],
   "source": [
    "name='omar emad'\n",
    "len(name)"
   ]
  },
  {
   "cell_type": "code",
   "execution_count": 45,
   "id": "7a2dfa32",
   "metadata": {
    "scrolled": true
   },
   "outputs": [
    {
     "name": "stdout",
     "output_type": "stream",
     "text": [
      "9\n"
     ]
    }
   ],
   "source": [
    "my_string = \"omar emad\"\n",
    "count = 0\n",
    "for char in my_string:\n",
    "    count += 1\n",
    "print(count)"
   ]
  },
  {
   "cell_type": "markdown",
   "id": "d7cc9da7",
   "metadata": {},
   "source": [
    "**2-Write a Python program to get a string made of the first 2 and last 2 characters of a given string. If the string length is less than 2, return the empty string instead (\"##Sample String : 'w3resource'\n",
    "Expected Result : 'w3ce'\n",
    "##Sample String : 'w3'\n",
    "Expected Result : 'w3w3'\n",
    "##Sample String : ' w'\n",
    "Expected Result : Empty String)"
   ]
  },
  {
   "cell_type": "code",
   "execution_count": 2,
   "id": "dafa9dd8",
   "metadata": {},
   "outputs": [
    {
     "name": "stdout",
     "output_type": "stream",
     "text": [
      "omad\n"
     ]
    }
   ],
   "source": [
    "name='omar emad'\n",
    "\n",
    "if len(name)<2:\n",
    "    print('empty string')\n",
    "else:\n",
    "    set(name)\n",
    "print(name[0:2]+name[-2:])\n",
    "     "
   ]
  },
  {
   "cell_type": "markdown",
   "id": "1534f956",
   "metadata": {},
   "source": [
    "**3-Write a Python program to add 'ing' at the end of a given string (length should be at least 3). If the given string already ends with 'ing', add 'ly' instead. If the string length of the given string is less than 3, leave it unchanged. (Sample String : 'abc'\n",
    "Expected Result : 'abcing')"
   ]
  },
  {
   "cell_type": "code",
   "execution_count": 4,
   "id": "7ff8cec4",
   "metadata": {},
   "outputs": [
    {
     "name": "stdout",
     "output_type": "stream",
     "text": [
      "str\n",
      "string\n"
     ]
    }
   ],
   "source": [
    "string=input()\n",
    "if len(string)>2:\n",
    "    if string[-3:]=='ing':\n",
    "        add_ly=string+'ly'\n",
    "        print(add_ly)\n",
    "    else:\n",
    "            add_ing=string+'ing'\n",
    "            print(add_ing)\n",
    "else:\n",
    "    print(string)"
   ]
  },
  {
   "cell_type": "markdown",
   "id": "1c0a6627",
   "metadata": {},
   "source": [
    "**4-Write a Python function that takes a list of words and return the longest word and the length of the longest one\n",
    "(Longest word: Exercises\n",
    "Length of the longest word: 9)"
   ]
  },
  {
   "cell_type": "code",
   "execution_count": 8,
   "id": "397341d9",
   "metadata": {},
   "outputs": [
    {
     "name": "stdout",
     "output_type": "stream",
     "text": [
      "Please input a list of words to evaluate: mohamed ,ahmed, omar\n",
      "The longest word is mohamed  with length 8\n"
     ]
    }
   ],
   "source": [
    "text =input(\"Please input a list of words to evaluate: \")\n",
    "longest = 0\n",
    "\n",
    "for words in text.split(','):\n",
    "    if len(words) > longest:\n",
    "        longest = len(words)\n",
    "        longest_word = words\n",
    "print(\"The longest word is\", longest_word, \"with length\", len(longest_word))"
   ]
  },
  {
   "cell_type": "markdown",
   "id": "53a03a6a",
   "metadata": {},
   "source": [
    "**5-Write a Python program to change a given string to a newly string where the first and last chars have been exchanged using 2 ways (Sample String:abca  Expected Result:ebce)"
   ]
  },
  {
   "cell_type": "code",
   "execution_count": 2,
   "id": "fd327d2a",
   "metadata": {},
   "outputs": [
    {
     "name": "stdout",
     "output_type": "stream",
     "text": [
      "please enter string  omar\n",
      "rmao\n"
     ]
    }
   ],
   "source": [
    "string=input('please enter string  ')\n",
    "swap=string[-1:]+string[1:-1]+string[0:1]\n",
    "print(swap)\n"
   ]
  },
  {
   "cell_type": "code",
   "execution_count": 3,
   "id": "285788b4",
   "metadata": {},
   "outputs": [
    {
     "name": "stdout",
     "output_type": "stream",
     "text": [
      "omar\n",
      "rmao\n"
     ]
    }
   ],
   "source": [
    "text=input()\n",
    "text\n",
    "first=text[0]\n",
    "last=text[-1]\n",
    "print(last+text[1:-1]+first)"
   ]
  },
  {
   "cell_type": "markdown",
   "id": "25f89808",
   "metadata": {},
   "source": [
    "** (6-Write a Python program to remove characters that have odd index values in a given stringSample String:abca Expected Result:ac)"
   ]
  },
  {
   "cell_type": "code",
   "execution_count": 17,
   "id": "05959bd7",
   "metadata": {},
   "outputs": [
    {
     "name": "stdout",
     "output_type": "stream",
     "text": [
      "omar\n",
      "oa\n"
     ]
    }
   ],
   "source": [
    "text = input()\n",
    "output=\"\"\n",
    "for i in range(len(text)):\n",
    "    if i % 2 == 0:\n",
    "        output=output+text[i]\n",
    "        \n",
    "        \n",
    "print(output)"
   ]
  },
  {
   "cell_type": "markdown",
   "id": "eb16e898",
   "metadata": {},
   "source": [
    "**7-Write a Python program to count the occurrences of each word in a given sentence (Sample String:amr and ahmed are frindes but amr is the tallest Expected Result:2)"
   ]
  },
  {
   "cell_type": "code",
   "execution_count": 27,
   "id": "01ce6cf5",
   "metadata": {},
   "outputs": [
    {
     "name": "stdout",
     "output_type": "stream",
     "text": [
      "omar emads omar\n",
      "{'omar': 2, 'emads': 1}\n"
     ]
    }
   ],
   "source": [
    "str=input()\n",
    "counts = {}\n",
    "words =str.split()\n",
    "\n",
    "for word in words:\n",
    "        if word in counts:\n",
    "            counts[word] += 1\n",
    "        else:\n",
    "            counts[word] = 1\n",
    "\n",
    "print (counts)\n"
   ]
  },
  {
   "cell_type": "markdown",
   "id": "4e8125f1",
   "metadata": {},
   "source": [
    "**8-Write a Python script that takes input from the user and displays that input back in upper and lower cases"
   ]
  },
  {
   "cell_type": "code",
   "execution_count": 31,
   "id": "66c8f778",
   "metadata": {},
   "outputs": [
    {
     "name": "stdout",
     "output_type": "stream",
     "text": [
      "omar emad\n",
      "OMAR EMAD\n",
      "omar emad\n"
     ]
    }
   ],
   "source": [
    "text=input()\n",
    "upper_text=text.upper()\n",
    "print(upper_text)\n",
    "print(lower_text)"
   ]
  },
  {
   "cell_type": "markdown",
   "id": "fcd68aa1",
   "metadata": {},
   "source": [
    "**9-Write a Python function to reverse a string if its length is a multiple of 4"
   ]
  },
  {
   "cell_type": "code",
   "execution_count": 37,
   "id": "0671a931",
   "metadata": {},
   "outputs": [
    {
     "name": "stdout",
     "output_type": "stream",
     "text": [
      "omaro\n",
      "check your text length\n"
     ]
    }
   ],
   "source": [
    "text=input()\n",
    "if len(text)%4==0:\n",
    "    reverse_text=text[::-1]\n",
    "    print( reverse_text)\n",
    "else:\n",
    "    print('check your text length')"
   ]
  },
  {
   "cell_type": "markdown",
   "id": "b577c68d",
   "metadata": {},
   "source": [
    "**10- Write a Python program to remove a newline in Python"
   ]
  },
  {
   "cell_type": "code",
   "execution_count": 2,
   "id": "e0c6525a",
   "metadata": {},
   "outputs": [
    {
     "name": "stdout",
     "output_type": "stream",
     "text": [
      "please enter text: omar emad\n",
      "omar emad\n"
     ]
    }
   ],
   "source": [
    "text=input(\"please enter text: \")\n",
    "text_strip=text.strip()\n",
    "print (text_strip)"
   ]
  },
  {
   "cell_type": "markdown",
   "id": "80db5ae0",
   "metadata": {},
   "source": [
    "**11-Write a Python program to check whether a string starts with specified characters"
   ]
  },
  {
   "cell_type": "code",
   "execution_count": 2,
   "id": "0cc4e03e",
   "metadata": {},
   "outputs": [
    {
     "name": "stdout",
     "output_type": "stream",
     "text": [
      "omar\n"
     ]
    },
    {
     "data": {
      "text/plain": [
       "True"
      ]
     },
     "execution_count": 2,
     "metadata": {},
     "output_type": "execute_result"
    }
   ],
   "source": [
    "string=input()\n",
    "string.startswith(\"o\")\n",
    "\n"
   ]
  },
  {
   "cell_type": "markdown",
   "id": "593a68db",
   "metadata": {},
   "source": [
    "**12- Write a Python program to add prefix text to all of the lines in a string"
   ]
  },
  {
   "cell_type": "code",
   "execution_count": 62,
   "id": "d2e46ada",
   "metadata": {},
   "outputs": [
    {
     "name": "stdout",
     "output_type": "stream",
     "text": [
      "enter your text with . in the end of each lineomar emad eldin. mohamed .\n"
     ]
    },
    {
     "data": {
      "text/plain": [
       "'*******omar emad eldin******* mohamed *******'"
      ]
     },
     "execution_count": 62,
     "metadata": {},
     "output_type": "execute_result"
    }
   ],
   "source": [
    "str1=input(\"enter your text with . in the end of each line\")\n",
    "str2=\"*******\"+str1\n",
    "str2.replace(\".\",\"*******\")"
   ]
  },
  {
   "cell_type": "markdown",
   "id": "86fa1543",
   "metadata": {},
   "source": [
    "**13-Write a Python program to print the following numbers up to 2 decimal places"
   ]
  },
  {
   "cell_type": "code",
   "execution_count": 3,
   "id": "cd4a9d89",
   "metadata": {
    "scrolled": true
   },
   "outputs": [
    {
     "name": "stdout",
     "output_type": "stream",
     "text": [
      "1.23454\n",
      "1.23\n"
     ]
    }
   ],
   "source": [
    "fraction_number=float(input())\n",
    "result=\"{:.2f}\".format(fraction_number)\n",
    "print(result)"
   ]
  },
  {
   "cell_type": "markdown",
   "id": "452c0ab0",
   "metadata": {},
   "source": [
    "**14-Write a Python program to print the following numbers up to 2 decimal places with a sign"
   ]
  },
  {
   "cell_type": "code",
   "execution_count": 1,
   "id": "73e82479",
   "metadata": {},
   "outputs": [
    {
     "name": "stdout",
     "output_type": "stream",
     "text": [
      "-1.25545\n",
      "-1.26\n"
     ]
    }
   ],
   "source": [
    "fraction_number=float(input())\n",
    "result=\"{:+.2f}\".format(fraction_number)\n",
    "print(result)"
   ]
  },
  {
   "cell_type": "markdown",
   "id": "32b1811a",
   "metadata": {},
   "source": [
    "**15-Write a Python program to display a number with a comma separator"
   ]
  },
  {
   "cell_type": "code",
   "execution_count": 5,
   "id": "f656c827",
   "metadata": {},
   "outputs": [
    {
     "name": "stdout",
     "output_type": "stream",
     "text": [
      "5255655\n",
      "5,255,655.0\n"
     ]
    }
   ],
   "source": [
    "num=float(input())\n",
    "split_num=\"{:,}\".format(num)\n",
    "print(split_num)\n"
   ]
  },
  {
   "cell_type": "markdown",
   "id": "0477f487",
   "metadata": {},
   "source": [
    "**16-Write a Python program to reverse a string using 2 ways"
   ]
  },
  {
   "cell_type": "code",
   "execution_count": 7,
   "id": "aa8beec8",
   "metadata": {},
   "outputs": [
    {
     "name": "stdout",
     "output_type": "stream",
     "text": [
      "omar\n",
      "ramo\n"
     ]
    }
   ],
   "source": [
    "text=input()\n",
    "reverse=text[::-1]\n",
    "print(reverse)"
   ]
  },
  {
   "cell_type": "markdown",
   "id": "5afc3166",
   "metadata": {},
   "source": [
    " **17-Write a Python program to count repeated characters in a string (hint:use dictionary)"
   ]
  },
  {
   "cell_type": "code",
   "execution_count": 3,
   "id": "515a469c",
   "metadata": {},
   "outputs": [
    {
     "name": "stdout",
     "output_type": "stream",
     "text": [
      "omarrr\n",
      "r: 3\n"
     ]
    }
   ],
   "source": [
    "text=input()\n",
    "counts={}\n",
    "for letter in text:\n",
    "    if letter in counts:\n",
    "            counts[letter] += 1\n",
    "    else:\n",
    "            counts[letter] = 1\n",
    "            \n",
    "            \n",
    "if counts[letter] > 1:\n",
    "    print(f\"{letter}: {counts[letter]}\")\n"
   ]
  },
  {
   "cell_type": "markdown",
   "id": "ae14e4e5",
   "metadata": {},
   "source": [
    "**18-Write a Python program to find the first non-repeating character in a given string"
   ]
  },
  {
   "cell_type": "code",
   "execution_count": 3,
   "id": "d73778e5",
   "metadata": {},
   "outputs": [
    {
     "name": "stdout",
     "output_type": "stream",
     "text": [
      "Enter a string: omar\n",
      "The first non-repeating character is: o\n"
     ]
    }
   ],
   "source": [
    " string = input(\"Enter a string: \")\n",
    "\n",
    "\n",
    "for char in string:\n",
    "   \n",
    "    if string.count(char) == 1:\n",
    "        print(f\"The first non-repeating character is: {char}\")\n",
    "        break\n",
    "else:\n",
    "    \n",
    "    print(\"There are no non-repeating characters in the string.\")"
   ]
  },
  {
   "cell_type": "markdown",
   "id": "3adf5669",
   "metadata": {},
   "source": [
    "**19-Write a Python program to remove spaces from a given string"
   ]
  },
  {
   "cell_type": "code",
   "execution_count": 8,
   "id": "b4f22602",
   "metadata": {},
   "outputs": [
    {
     "name": "stdout",
     "output_type": "stream",
     "text": [
      "om        ar\n",
      "omar\n"
     ]
    }
   ],
   "source": [
    "text=input()\n",
    "string=text.replace(' 'or'  'or'    ','')\n",
    "print (string)"
   ]
  },
  {
   "cell_type": "markdown",
   "id": "734de60c",
   "metadata": {},
   "source": [
    "**20-Write a Python program to count the number of non-empty substrings of a given string"
   ]
  },
  {
   "cell_type": "code",
   "execution_count": 48,
   "id": "ef3f2274",
   "metadata": {},
   "outputs": [
    {
     "name": "stdout",
     "output_type": "stream",
     "text": [
      "8\n"
     ]
    }
   ],
   "source": [
    "string=\"omar emad\"\n",
    "count=0\n",
    "for items in string:\n",
    "    if items!=\" \":\n",
    "        count+=1\n",
    "print(count)       "
   ]
  },
  {
   "cell_type": "markdown",
   "id": "509998e2",
   "metadata": {},
   "source": [
    "**21-write a Python program to swap first and last element of any list."
   ]
  },
  {
   "cell_type": "code",
   "execution_count": 5,
   "id": "68692d7f",
   "metadata": {},
   "outputs": [
    {
     "name": "stdout",
     "output_type": "stream",
     "text": [
      "Enter a list : 10,11,12,13\n",
      "[13, 11, 12, 10]\n"
     ]
    }
   ],
   "source": [
    "my_list = input(\"Enter a list : \").split(',')\n",
    "\n",
    "\n",
    "my_list = [int(element) for element in my_list]\n",
    "\n",
    "\n",
    "if len(my_list) >= 2:\n",
    "    my_list[0], my_list[-1] = my_list[-1], my_list[0]\n",
    "\n",
    "print(my_list)"
   ]
  },
  {
   "cell_type": "markdown",
   "id": "959e0837",
   "metadata": {},
   "source": [
    "**22-Given a list in Python and provided the positions of the elements, write a program to swap the two elements in the list. (Input : List = [23, 65, 19, 90], pos1 = 1, pos2 = 3\n",
    "Output : [19, 65, 23, 90])"
   ]
  },
  {
   "cell_type": "code",
   "execution_count": 10,
   "id": "225d8c6d",
   "metadata": {},
   "outputs": [
    {
     "name": "stdout",
     "output_type": "stream",
     "text": [
      "Enter a list : 11,12,13,14,15\n",
      "Enter the first position: 1\n",
      "Enter the second position: 3\n",
      "[11, 14, 13, 12, 15]\n"
     ]
    }
   ],
   "source": [
    "my_list = input(\"Enter a list : \").split(',')\n",
    "pos1 = int(input(\"Enter the first position: \"))\n",
    "pos2 = int(input(\"Enter the second position: \"))\n",
    "\n",
    "my_list = [int(element) for element in my_list]\n",
    "\n",
    "if len(my_list) >= 2:\n",
    "    my_list[pos1], my_list[pos2] = my_list[pos2], my_list[pos1]\n",
    "\n",
    "print(my_list)"
   ]
  },
  {
   "cell_type": "markdown",
   "id": "66fc6682",
   "metadata": {},
   "source": [
    "**23- search for the all ways to know the length of the list"
   ]
  },
  {
   "cell_type": "code",
   "execution_count": 50,
   "id": "79bfb178",
   "metadata": {},
   "outputs": [
    {
     "name": "stdout",
     "output_type": "stream",
     "text": [
      "6\n"
     ]
    }
   ],
   "source": [
    "my_list=[1,2,3,4,5,6]\n",
    "number_in_list=len(my_list[:])\n",
    "print(number_in_list)"
   ]
  },
  {
   "cell_type": "code",
   "execution_count": 51,
   "id": "76132c00",
   "metadata": {},
   "outputs": [
    {
     "name": "stdout",
     "output_type": "stream",
     "text": [
      "6\n"
     ]
    }
   ],
   "source": [
    "my_list=[1,2,3,4,5,6]\n",
    "number_in_list=len(my_list)\n",
    "print(number_in_list)"
   ]
  },
  {
   "cell_type": "code",
   "execution_count": 52,
   "id": "c11b7496",
   "metadata": {},
   "outputs": [
    {
     "name": "stdout",
     "output_type": "stream",
     "text": [
      "6\n"
     ]
    }
   ],
   "source": [
    "my_list=[1,2,3,4,5,6]\n",
    "count=0\n",
    "for items in my_list:\n",
    "        count+=1\n",
    "print(count) "
   ]
  },
  {
   "cell_type": "code",
   "execution_count": null,
   "id": "63ff8b43",
   "metadata": {},
   "outputs": [],
   "source": [
    "**24-write a Python code to find the Maximum number of list of numbers."
   ]
  },
  {
   "cell_type": "code",
   "execution_count": 12,
   "id": "15f342de",
   "metadata": {},
   "outputs": [
    {
     "name": "stdout",
     "output_type": "stream",
     "text": [
      "Enter a list : 14,14,12,13\n",
      "14\n"
     ]
    }
   ],
   "source": [
    "my_list = input(\"Enter a list : \").split(',')\n",
    "max_num=max(my_list)\n",
    "print(max_num)\n",
    "    "
   ]
  },
  {
   "cell_type": "code",
   "execution_count": null,
   "id": "1a89b9d3",
   "metadata": {},
   "outputs": [],
   "source": [
    "**25-write a Python code to find the Minimum number of list of numbers."
   ]
  },
  {
   "cell_type": "code",
   "execution_count": 13,
   "id": "21f8cbd6",
   "metadata": {},
   "outputs": [
    {
     "name": "stdout",
     "output_type": "stream",
     "text": [
      "Enter a list : 12,13,14\n",
      "12\n"
     ]
    }
   ],
   "source": [
    "my_list = input(\"Enter a list : \").split(',')\n",
    "max_num=min(my_list)\n",
    "print(max_num)"
   ]
  },
  {
   "cell_type": "markdown",
   "id": "96822d96",
   "metadata": {},
   "source": [
    "**26-search for if an elem is existing in list"
   ]
  },
  {
   "cell_type": "code",
   "execution_count": null,
   "id": "51ca5c9a",
   "metadata": {},
   "outputs": [],
   "source": [
    "my_list = input(\"Enter a list : \").split(',')\n",
    "max_num=min(my_list)\n",
    "print(max_num)"
   ]
  },
  {
   "cell_type": "markdown",
   "id": "d9557da7",
   "metadata": {},
   "source": [
    "**27- clear python list using different ways"
   ]
  },
  {
   "cell_type": "code",
   "execution_count": 15,
   "id": "b69858a3",
   "metadata": {},
   "outputs": [
    {
     "name": "stdout",
     "output_type": "stream",
     "text": [
      "Enter a list : 12,13,14\n",
      "15\n",
      "15 number is not found\n"
     ]
    }
   ],
   "source": [
    "my_list = input(\"Enter a list : \").split(',')\n",
    "number=input()\n",
    "if number in my_list:\n",
    "    print(number,\"number is found\")\n",
    "else:\n",
    "    print(number,\"number is not found\")"
   ]
  },
  {
   "cell_type": "markdown",
   "id": "52160e88",
   "metadata": {},
   "source": [
    "**28-remove duplicated elements from a list"
   ]
  },
  {
   "cell_type": "code",
   "execution_count": 16,
   "id": "5e362228",
   "metadata": {},
   "outputs": [
    {
     "name": "stdout",
     "output_type": "stream",
     "text": [
      "Enter a list : 12,14,15,14\n",
      "{'15', '14', '12'}\n"
     ]
    }
   ],
   "source": [
    "my_list = input(\"Enter a list : \").split(',')\n",
    "set_of_element=set(my_list)\n",
    "print(set_of_element)"
   ]
  },
  {
   "cell_type": "markdown",
   "id": "282337f7",
   "metadata": {},
   "source": [
    "**29-Given list values and keys list, convert these values to key value pairs in form of list of dictionaries. (Input : test_list = [“Gfg”, 3, “is”, 8], key_list = [“name”, “id”]\n",
    "Output : [{‘name’: ‘Gfg’, ‘id’: 3}, {‘name’: ‘is’, ‘id’: 8}])"
   ]
  },
  {
   "cell_type": "code",
   "execution_count": 53,
   "id": "4d4e2d28",
   "metadata": {},
   "outputs": [
    {
     "name": "stdout",
     "output_type": "stream",
     "text": [
      "[{'a': 10}, {'b': 20}, {'c': 30}, {'d': 40}, {'e': 50}]\n"
     ]
    }
   ],
   "source": [
    "values = [10, 20, 30, 40, 50]\n",
    "keys = [\"a\", \"b\", \"c\", \"d\", \"e\"]\n",
    "\n",
    "result = []\n",
    "\n",
    "for i in range(len(keys)):\n",
    "    result.append({keys[i]: values[i]})\n",
    "\n",
    "print(result)"
   ]
  },
  {
   "cell_type": "markdown",
   "id": "c26b6e9f",
   "metadata": {},
   "source": [
    "**30-write a python program to count unique values inside a list using different ways"
   ]
  },
  {
   "cell_type": "code",
   "execution_count": 22,
   "id": "72132667",
   "metadata": {},
   "outputs": [
    {
     "name": "stdout",
     "output_type": "stream",
     "text": [
      "Enter a string: 12 14 15 16 17\n",
      "5\n"
     ]
    }
   ],
   "source": [
    "my_list = input(\"Enter a string: \").split()\n",
    "counts=0\n",
    "\n",
    "\n",
    "for value in my_list:\n",
    "    if my_list.count(value) == 1:\n",
    "        counts+=1\n",
    "    \n",
    "print(counts)\n",
    "   "
   ]
  },
  {
   "cell_type": "markdown",
   "id": "fed6677c",
   "metadata": {},
   "source": [
    "**31-write a python program Extract all elements with Frequency greater than K (Input : test_list = [4, 6, 4, 3, 3, 4, 3, 4, 3, 8], K = 3 \n",
    "Output : [4, 3] )"
   ]
  },
  {
   "cell_type": "code",
   "execution_count": null,
   "id": "d81f3f9d",
   "metadata": {},
   "outputs": [],
   "source": []
  },
  {
   "cell_type": "markdown",
   "id": "caca5224",
   "metadata": {},
   "source": [
    "**32-write a python program to find the Strongest Neighbour (Input: 1 2 2 3 4 5\n",
    "Output: 2 2 3 4 5)"
   ]
  },
  {
   "cell_type": "code",
   "execution_count": 57,
   "id": "39fbd9b2",
   "metadata": {},
   "outputs": [
    {
     "name": "stdout",
     "output_type": "stream",
     "text": [
      "20\n",
      "30\n",
      "30\n",
      "30\n",
      "400\n"
     ]
    }
   ],
   "source": [
    "a1 = [10,20,30,20,30,400]\n",
    "a2 = []\t\n",
    "for i in range(1, len(a1)):\n",
    "    r = max(a1[i], a1[i-1])\n",
    "    a2.append(r)\n",
    "for i in a2 :\n",
    "    print(i)"
   ]
  },
  {
   "cell_type": "markdown",
   "id": "a9fa8baf",
   "metadata": {},
   "source": [
    "**33-write a Python Program to print all Possible Combinations from the three Digits (Input: [1, 2, 3]\n",
    "Output:\n",
    "1 2 3 ##\n",
    "1 3 2 ##\n",
    "2 1 3 ##\n",
    "2 3 1 ##\n",
    "3 1 2 ##\n",
    "3 2 1)"
   ]
  },
  {
   "cell_type": "code",
   "execution_count": 60,
   "id": "8c520a76",
   "metadata": {},
   "outputs": [
    {
     "name": "stdout",
     "output_type": "stream",
     "text": [
      "Enter first number:5\n",
      "Enter second number:6\n",
      "Enter third number:7\n",
      "5 6 7\n",
      "5 7 6\n",
      "6 5 7\n",
      "6 7 5\n",
      "7 5 6\n",
      "7 6 5\n"
     ]
    }
   ],
   "source": [
    "a=int(input(\"Enter first number:\"))\n",
    "b=int(input(\"Enter second number:\"))\n",
    "c=int(input(\"Enter third number:\"))\n",
    "d=[]\n",
    "d.append(a)\n",
    "d.append(b)\n",
    "d.append(c)\n",
    "for i in range(len(d)):\n",
    "    for j in range(len(d)):\n",
    "        for k in range(len( d)):\n",
    "            if(i!=j&j!=k&k!=i):\n",
    "                print(d[i],d[j],d[k])\n"
   ]
  },
  {
   "cell_type": "markdown",
   "id": "5288bb89",
   "metadata": {},
   "source": [
    "**34-write a Python program to find all the Combinations in the list with the given condition (Input: test_list = [1,2,3] \n",
    "Output: \n",
    " [1], [1, 2], [1, 2, 3], [1, 3]\n",
    " [2], [2, 3], [3])"
   ]
  },
  {
   "cell_type": "code",
   "execution_count": null,
   "id": "59b89646",
   "metadata": {},
   "outputs": [],
   "source": []
  },
  {
   "cell_type": "markdown",
   "id": "39973705",
   "metadata": {},
   "source": [
    "**35-write a Python program to get all unique combinations of two Lists (List_1 = [\"a\",\"b\"]\n",
    "List_2 = [1,2]\n",
    "Unique_combination = [[('a',1),('b',2)],[('a',2),('b',1)]] )"
   ]
  },
  {
   "cell_type": "code",
   "execution_count": 61,
   "id": "8c4ba22b",
   "metadata": {},
   "outputs": [
    {
     "name": "stdout",
     "output_type": "stream",
     "text": [
      "[(1, 'a'), (1, 'b'), (1, 'c'), (2, 'a'), (2, 'b'), (2, 'c'), (3, 'a'), (3, 'b'), (3, 'c')]\n"
     ]
    }
   ],
   "source": [
    "list1 = [1, 2, 3]\n",
    "list2 = [\"a\", \"b\", \"c\"]\n",
    "\n",
    "combinations = []\n",
    "\n",
    "for i in list1:\n",
    "    for j in list2:\n",
    "        combinations.append((i, j))\n",
    "\n",
    "print(combinations)"
   ]
  },
  {
   "cell_type": "markdown",
   "id": "25199af5",
   "metadata": {},
   "source": [
    "**36-Remove all the occurrences of an element from a list in Python (Input : 1 1 2 3 4 5 1 2 1 \n",
    "\n",
    "**Output : 2 3 4 5 2)"
   ]
  },
  {
   "cell_type": "code",
   "execution_count": 27,
   "id": "6dc4c2ba",
   "metadata": {},
   "outputs": [
    {
     "name": "stdout",
     "output_type": "stream",
     "text": [
      "Enter a list: 11 1 21 4 1 4 21\n",
      "Enter the number to remove: 21\n",
      "['11', '1', '4', '1', '4']\n"
     ]
    }
   ],
   "source": [
    "my_list = input(\"Enter a list: \").split()\n",
    "number = input(\"Enter the number to remove: \")\n",
    "\n",
    "final_list = [x for x in my_list if x != number]\n",
    "\n",
    "print( final_list)\n",
    "            "
   ]
  },
  {
   "cell_type": "markdown",
   "id": "bf1a3c93",
   "metadata": {},
   "source": [
    "**37-write a python program to Replace index elements with elements in Other List (The original list 1 is : [‘Gfg’, ‘is’, ‘best’] The original list 2 is : [0, 1, 2, 1, 0, 0, 0, 2, 1, 1, 2, 0] The lists after index elements replacements is : [‘Gfg’, ‘is’, ‘best’, ‘is’, ‘Gfg’, ‘Gfg’, ‘Gfg’, ‘best’, ‘is’, ‘is’, ‘best’, ‘Gfg’])"
   ]
  },
  {
   "cell_type": "code",
   "execution_count": 29,
   "id": "fdd66a71",
   "metadata": {},
   "outputs": [
    {
     "name": "stdout",
     "output_type": "stream",
     "text": [
      "Enter a list: Gfg, is, best\n",
      "second list: 0, 1, 2, 1, 0, 0, 0, 2, 1, 1, 2, 0\n",
      "List after replacing elements: ['Gfg', ' is', ' best']\n"
     ]
    }
   ],
   "source": [
    "my_list = input(\"Enter a list: \").split(\",\")\n",
    "sec_list = input(\"second list: \").split(\",\")\n",
    "for i in range(len(my_list)):\n",
    "    if my_list[i] in sec_list:\n",
    "        my_list[i] = sec_list.index(my_list[i])\n",
    "\n",
    "print(\"List after replacing elements:\", my_list)"
   ]
  },
  {
   "cell_type": "markdown",
   "id": "af0f56e8",
   "metadata": {},
   "source": [
    "**38- write python program to Retain records with N occurrences of K(Input : test_list = [(4, 5, 5, 4), (5, 4, 3)], K = 5, N = 2 \n",
    "Output : [(4, 5, 5, 4)]\n",
    "Input : test_list = [(4, 5, 5, 4), (5, 4, 3)], K = 5, N = 3 \n",
    "Output : [] )"
   ]
  },
  {
   "cell_type": "code",
   "execution_count": null,
   "id": "67b06671",
   "metadata": {},
   "outputs": [],
   "source": []
  },
  {
   "cell_type": "markdown",
   "id": "de76f183",
   "metadata": {},
   "source": [
    "**39-write a Python Program to Sort the list according to the column using lambda\n",
    "array = [[1, 3, 3], [2, 1, 2], [3, 2, 1]]\n",
    "Output :\n",
    "Sorted array specific to column 0, [[1, 3, 3], [2, 1, 2], [3, 2, 1]]\n",
    "Sorted array specific to column 1, [[2, 1, 2], [3, 2, 1], [1, 3, 3]]\n",
    "Sorted array specific to column 2, [[3, 2, 1], [2, 1, 2], [1, 3, 3]]"
   ]
  },
  {
   "cell_type": "code",
   "execution_count": null,
   "id": "dc883308",
   "metadata": {},
   "outputs": [],
   "source": []
  },
  {
   "cell_type": "code",
   "execution_count": 12,
   "id": "d2e7b31f",
   "metadata": {
    "scrolled": true
   },
   "outputs": [
    {
     "ename": "SyntaxError",
     "evalue": "invalid syntax (3685369303.py, line 1)",
     "output_type": "error",
     "traceback": [
      "\u001b[1;36m  Cell \u001b[1;32mIn[12], line 1\u001b[1;36m\u001b[0m\n\u001b[1;33m    **40- write a program to Sort Python Dictionaries by Key or Value\u001b[0m\n\u001b[1;37m    ^\u001b[0m\n\u001b[1;31mSyntaxError\u001b[0m\u001b[1;31m:\u001b[0m invalid syntax\n"
     ]
    }
   ],
   "source": [
    "**40- write a program to Sort Python Dictionaries by Key or Value\n",
    "Input:\n",
    "{}\n",
    "\n",
    "Output: \n",
    "{'rajnish': 9, 'ravi': 10, 'sanjeev': 15, 'suraj': 32, 'yash': 2}"
   ]
  },
  {
   "cell_type": "code",
   "execution_count": 11,
   "id": "a96db4a0",
   "metadata": {
    "scrolled": true
   },
   "outputs": [
    {
     "name": "stdout",
     "output_type": "stream",
     "text": [
      "Enter a dictionary in the format key:value separated by commas: 'ravi': 10, 'rajnish': 9, 'sanjeev': 15, 'yash': 2, 'suraj': 32\n",
      "Sorted dictionary by key: {\" 'rajnish'\": ' 9', \" 'sanjeev'\": ' 15', \" 'suraj'\": ' 32', \" 'yash'\": ' 2', \"'ravi'\": ' 10'}\n"
     ]
    }
   ],
   "source": [
    "my_dict = dict(item.split(\":\") for item in input(\"Enter a dictionary in the format key:value separated by commas: \").split(\",\"))\n",
    "\n",
    "sorted_dict = {k: v for k, v in sorted(my_dict.items(), key=lambda item: item[0])}\n",
    "\n",
    "print(\"Sorted dictionary by key:\", sorted_dict)"
   ]
  },
  {
   "cell_type": "markdown",
   "id": "ec63c23a",
   "metadata": {},
   "source": [
    "**41-write python program to Remove keys with Values Greater than K ( Including mixed values )\n",
    "nput : test_dict = {‘Gfg’ : 3, ‘is’ : 7, ‘best’ : 10, ‘for’ : 6, ‘geeks’ : ‘CS’},\n",
    "K = 7 \n",
    "Output : {‘Gfg’ : 3, ‘for’ : 6, ‘geeks’ : ‘CS’}"
   ]
  },
  {
   "cell_type": "code",
   "execution_count": 13,
   "id": "e39c3a40",
   "metadata": {},
   "outputs": [
    {
     "name": "stdout",
     "output_type": "stream",
     "text": [
      " dictionary: {'a': 5, 'b': 10, 'c': 15, 'd': 20}\n",
      "Dictionary after removing keys : {'a': 5, 'b': 10}\n"
     ]
    }
   ],
   "source": [
    "d = {'a': 5, 'b': 10, 'c': 15, 'd': 20}\n",
    "print(\" dictionary:\", d)\n",
    "\n",
    "keys_to_remove = []\n",
    "for key in d:\n",
    "    if d[key] > 12:\n",
    "        keys_to_remove.append(key)\n",
    "\n",
    "for key in keys_to_remove:\n",
    "    del d[key]\n",
    "\n",
    "print(\"Dictionary after removing keys :\", d)"
   ]
  },
  {
   "cell_type": "markdown",
   "id": "f143f0fe",
   "metadata": {},
   "source": [
    "**42-Write a Python program to concatenate the following dictionaries to create a new one\n",
    "\n",
    "Sample Dictionary :\n",
    "dic1={1:10, 2:20}\n",
    "dic2={3:30, 4:40}\n",
    "dic3={5:50,6:60}\n",
    "Expected Result : {1: 10, 2: 20, 3: 30, 4: 40, 5: 50, 6: 60}"
   ]
  },
  {
   "cell_type": "code",
   "execution_count": 1,
   "id": "74ffdfea",
   "metadata": {},
   "outputs": [
    {
     "name": "stdout",
     "output_type": "stream",
     "text": [
      "{1: 10, 2: 20, 3: 30, 4: 40, 5: 50, 6: 60}\n"
     ]
    }
   ],
   "source": [
    "dic1 = {1: 10, 2: 20}\n",
    "dic2 = {3: 30, 4: 40}\n",
    "dic3 = {5: 50, 6: 60}\n",
    "final_dic = {}\n",
    "\n",
    "for d in [dic1, dic2, dic3]:\n",
    "    final_dic.update(d)\n",
    "\n",
    "print(final_dic)"
   ]
  },
  {
   "cell_type": "markdown",
   "id": "fb04c93c",
   "metadata": {},
   "source": [
    "**43-Write a Python program to iterate over dictionaries using for loops"
   ]
  },
  {
   "cell_type": "code",
   "execution_count": 63,
   "id": "6aebc470",
   "metadata": {
    "scrolled": true
   },
   "outputs": [
    {
     "name": "stdout",
     "output_type": "stream",
     "text": [
      "a ahmed\n",
      "b basem\n",
      "c coco\n"
     ]
    }
   ],
   "source": [
    "dt = {'a': 'ahmed', 'b': 'basem', 'c': 'coco'}\n",
    "\n",
    "for key, value in dt.items():\n",
    "    print(key, value)"
   ]
  },
  {
   "cell_type": "markdown",
   "id": "5f491a9d",
   "metadata": {},
   "source": [
    "**44- Write a Python script to merge two Python dictionaries"
   ]
  },
  {
   "cell_type": "code",
   "execution_count": 2,
   "id": "b8a14028",
   "metadata": {},
   "outputs": [
    {
     "name": "stdout",
     "output_type": "stream",
     "text": [
      "{1: 10, 2: 20, 3: 30, 4: 40}\n"
     ]
    }
   ],
   "source": [
    "dic1 = {1: 10, 2: 20}\n",
    "dic2 = {3: 30, 4: 40}\n",
    "\n",
    "final_dic = {}\n",
    "\n",
    "for d in [dic1, dic2]:\n",
    "    final_dic.update(d)\n",
    "\n",
    "print(final_dic)"
   ]
  },
  {
   "cell_type": "markdown",
   "id": "216fc72d",
   "metadata": {},
   "source": [
    "**45-Write a Python program to get the maximum and minimum values of a dictionary values"
   ]
  },
  {
   "cell_type": "code",
   "execution_count": 66,
   "id": "d6883f5f",
   "metadata": {},
   "outputs": [
    {
     "name": "stdout",
     "output_type": "stream",
     "text": [
      "Maximum value: 3\n",
      "Minimum value: 1\n"
     ]
    }
   ],
   "source": [
    "my_dict = {\"apple\": 2, \"banana\": 3, \"orange\": 1}\n",
    "\n",
    "max_value = max(my_dict.values())\n",
    "min_value = min(my_dict.values())\n",
    "\n",
    "print(\"Maximum value:\", max_value)\n",
    "print(\"Minimum value:\", min_value)"
   ]
  },
  {
   "cell_type": "markdown",
   "id": "b6a53011",
   "metadata": {},
   "source": [
    "**46- Write a Python program to drop empty items from a given dictionary.\n",
    "Original Dictionary:\n",
    "{'c1': 'Red', 'c2': 'Green', 'c3': None}\n",
    "New Dictionary after dropping empty items:\n",
    "{'c1': 'Red', 'c2': 'Green'}"
   ]
  },
  {
   "cell_type": "code",
   "execution_count": 75,
   "id": "b5c6fecf",
   "metadata": {},
   "outputs": [
    {
     "name": "stdout",
     "output_type": "stream",
     "text": [
      "{'apple': 2, 'peach': 5}\n"
     ]
    }
   ],
   "source": [
    "my_dict = {\"apple\": 2, \"banana\": \"\", \"orange\": [], \"pear\": None, \"peach\": 5}\n",
    "\n",
    "clean_dict = {}\n",
    "for key, value in my_dict.items():\n",
    "    if value not in [None, \"\", []]:\n",
    "        clean_dict[key] = value\n",
    "\n",
    "print(clean_dict)"
   ]
  },
  {
   "cell_type": "markdown",
   "id": "46d718c7",
   "metadata": {},
   "source": [
    "**47-Write a Python program to create a tuple of numbers and print one item"
   ]
  },
  {
   "cell_type": "code",
   "execution_count": 8,
   "id": "13216ff5",
   "metadata": {},
   "outputs": [
    {
     "name": "stdout",
     "output_type": "stream",
     "text": [
      "11 12 14 15 \n",
      "16\n",
      "not found\n"
     ]
    }
   ],
   "source": [
    "tuple_list = tuple(input().split())\n",
    "input_item = input()\n",
    "\n",
    "found = False\n",
    "for item in tuple_list:\n",
    "    if input_item == item:\n",
    "        print(item)\n",
    "        found = True\n",
    "\n",
    "if found==False:\n",
    "    print(\"not found\")"
   ]
  },
  {
   "cell_type": "markdown",
   "id": "2be5b56b",
   "metadata": {},
   "source": [
    "**48-Write a Python program to unpack a tuple into several variables"
   ]
  },
  {
   "cell_type": "code",
   "execution_count": 11,
   "id": "595f44be",
   "metadata": {},
   "outputs": [
    {
     "name": "stdout",
     "output_type": "stream",
     "text": [
      "11,12,13,14\n",
      "11\n",
      "12\n",
      "13\n",
      "14\n"
     ]
    }
   ],
   "source": [
    "tuple_list = tuple(input().split(\",\"))\n",
    "for item in tuple_list:\n",
    "    print (item)\n"
   ]
  },
  {
   "cell_type": "markdown",
   "id": "392388a7",
   "metadata": {},
   "source": [
    "**49-Write a Python program to add an item to a tuple"
   ]
  },
  {
   "cell_type": "code",
   "execution_count": 13,
   "id": "54cc092e",
   "metadata": {},
   "outputs": [
    {
     "name": "stdout",
     "output_type": "stream",
     "text": [
      "Enter a new item: 11\n",
      "(11, 12, 13, 14, '11')\n"
     ]
    }
   ],
   "source": [
    "tuple_items = (11, 12, 13, 14)\n",
    "item = input(\"Enter a new item: \")\n",
    "final_items = tuple(list(tuple_items) + [item])\n",
    "print(final_items)"
   ]
  },
  {
   "cell_type": "markdown",
   "id": "3e8fd124",
   "metadata": {},
   "source": [
    "**50-Write a Python program to convert a tuple to a string"
   ]
  },
  {
   "cell_type": "code",
   "execution_count": 15,
   "id": "92a71ddc",
   "metadata": {},
   "outputs": [
    {
     "name": "stdout",
     "output_type": "stream",
     "text": [
      "('ahmed', 'omar', 'mohamed')\n"
     ]
    }
   ],
   "source": [
    "my_tuple = (\"ahmed\", \"omar\", \"mohamed\")\n",
    "my_string = str(my_tuple)\n",
    "\n",
    "print(my_string)"
   ]
  },
  {
   "cell_type": "markdown",
   "id": "f4f64ef4",
   "metadata": {},
   "source": [
    "**51-Write a Python program to convert a list to a tuple"
   ]
  },
  {
   "cell_type": "code",
   "execution_count": 18,
   "id": "210d56d3",
   "metadata": {},
   "outputs": [
    {
     "data": {
      "text/plain": [
       "(1, 2, 3, 4, 5)"
      ]
     },
     "execution_count": 18,
     "metadata": {},
     "output_type": "execute_result"
    }
   ],
   "source": [
    "my_list=[1,2,3,4,5]\n",
    "my_tuple=tuple(my_list)\n",
    "my_tuple"
   ]
  },
  {
   "cell_type": "markdown",
   "id": "b1e00ef7",
   "metadata": {},
   "source": [
    "**52-Write a Python program to reverse a tuple"
   ]
  },
  {
   "cell_type": "code",
   "execution_count": 21,
   "id": "f45bfdc7",
   "metadata": {},
   "outputs": [
    {
     "name": "stdout",
     "output_type": "stream",
     "text": [
      "(5, 4, 3, 2, 1)\n"
     ]
    }
   ],
   "source": [
    "my_tuple=(1,2,3,4,5)\n",
    "final=my_tuple[::-1]\n",
    "print(final)\n"
   ]
  },
  {
   "cell_type": "markdown",
   "id": "3cd347d1",
   "metadata": {},
   "source": [
    "**53-Write a Python program to replace the last value of tuples in a list.\n",
    "Sample list: [(10, 20, 40), (40, 50, 60), (70, 80, 90)]\n",
    "Expected Output: [(10, 20, 100), (40, 50, 100), (70, 80, 100)]"
   ]
  },
  {
   "cell_type": "code",
   "execution_count": 79,
   "id": "3c4a2a4c",
   "metadata": {},
   "outputs": [
    {
     "name": "stdout",
     "output_type": "stream",
     "text": [
      "10\n",
      "[(1, 2, '10'), (4, 5, '10'), (7, 8, '10')]\n"
     ]
    }
   ],
   "source": [
    "my_list = [(1, 2, 3), (4, 5, 6), (7, 8, 9)]\n",
    "new_value = input()\n",
    "\n",
    "\n",
    "new_list = [(x[0], x[1], new_value) for x in my_list]\n",
    "\n",
    "print(new_list)"
   ]
  },
  {
   "cell_type": "markdown",
   "id": "76bb7b39",
   "metadata": {},
   "source": [
    "**54-Write a Python program to convert a given string list to a tuple\n",
    "Original string: python 3.0\n",
    "<class 'str'>\n",
    "Convert the said string to a tuple:\n",
    "('p', 'y', 't', 'h', 'o', 'n', '3', '.', '0')"
   ]
  },
  {
   "cell_type": "code",
   "execution_count": 29,
   "id": "51951937",
   "metadata": {},
   "outputs": [
    {
     "name": "stdout",
     "output_type": "stream",
     "text": [
      "('o', 'm', 'a', 'r')\n"
     ]
    }
   ],
   "source": [
    "string=\"omar\"\n",
    "my_tuple=tuple(string)\n",
    "print(my_tuple)"
   ]
  },
  {
   "cell_type": "markdown",
   "id": "5a1d5d97",
   "metadata": {},
   "source": [
    "**55-Write a Python program to calculate the average value of the numbers in a given tuple of tuples"
   ]
  },
  {
   "cell_type": "code",
   "execution_count": 84,
   "id": "834e7992",
   "metadata": {},
   "outputs": [
    {
     "name": "stdout",
     "output_type": "stream",
     "text": [
      "2.0\n",
      "5.0\n",
      "8.0\n"
     ]
    }
   ],
   "source": [
    "my_tuple=((1,2,3),(4,5,6),(7,8,9))\n",
    "for i in my_tuple:\n",
    "    avg=sum(i)/len(i)\n",
    "    print(avg)        "
   ]
  },
  {
   "cell_type": "markdown",
   "id": "51edab9c",
   "metadata": {},
   "source": [
    "**56-Write a Python program to add member(s) to a set."
   ]
  },
  {
   "cell_type": "code",
   "execution_count": 33,
   "id": "2b65df79",
   "metadata": {},
   "outputs": [
    {
     "name": "stdout",
     "output_type": "stream",
     "text": [
      "\n",
      "Add single element:\n",
      "omar\n",
      "{'omar'}\n",
      "\n",
      "Add multiple items:\n",
      "ahmed,mohamed\n",
      "{'ahmed', 'omar', 'mohamed'}\n"
     ]
    }
   ],
   "source": [
    "color_set = set()\n",
    "\n",
    "print(\"\\nAdd single element:\")\n",
    "color_set.add(input())\n",
    "print(color_set)\n",
    "print(\"\\nAdd multiple items:\")\n",
    "color_set.update(input().split(\",\"))\n",
    "print(color_set)"
   ]
  },
  {
   "cell_type": "markdown",
   "id": "965590cc",
   "metadata": {},
   "source": [
    "**57-Write a Python program to remove an item from a set if it is present in the set."
   ]
  },
  {
   "cell_type": "code",
   "execution_count": 37,
   "id": "866bab28",
   "metadata": {},
   "outputs": [
    {
     "name": "stdout",
     "output_type": "stream",
     "text": [
      "Enter an item to remove from the set: 3\n",
      "{1, 2, 4, 5}\n"
     ]
    }
   ],
   "source": [
    "my_set = {1, 2, 3, 4, 5}\n",
    "\n",
    "# Remove an item from the set using user input and the \"remove()\" method\n",
    "item = int(input(\"Enter an item to remove from the set: \"))\n",
    "if item in my_set:\n",
    "    my_set.remove(item)\n",
    "\n",
    "# Print out the updated set\n",
    "print(my_set)"
   ]
  },
  {
   "cell_type": "markdown",
   "id": "2b7cfed1",
   "metadata": {},
   "source": [
    "**58-Write a Python program to create an intersection,union,difference and symmetric difference of sets"
   ]
  },
  {
   "cell_type": "code",
   "execution_count": 85,
   "id": "7f94b7fe",
   "metadata": {},
   "outputs": [
    {
     "name": "stdout",
     "output_type": "stream",
     "text": [
      "Intersection: {3, 4}\n",
      "Union: {1, 2, 3, 4, 5, 6}\n",
      "Set1 minus Set2: {1, 2}\n",
      "Set2 minus Set1: {5, 6}\n",
      "Symmetric Difference: {1, 2, 5, 6}\n"
     ]
    }
   ],
   "source": [
    "set1 = {1, 2, 3, 4}\n",
    "set2 = {3, 4, 5, 6}\n",
    "\n",
    "# Intersection\n",
    "intersection = set1.intersection(set2)\n",
    "print(\"Intersection:\", intersection)\n",
    "\n",
    "# Union\n",
    "union = set1.union(set2)\n",
    "print(\"Union:\", union)\n",
    "\n",
    "# Difference\n",
    "difference1 = set1.difference(set2)\n",
    "difference2 = set2.difference(set1)\n",
    "print(\"Set1 minus Set2:\", difference1)\n",
    "print(\"Set2 minus Set1:\", difference2)\n",
    "\n",
    "# Symmetric difference\n",
    "symmetric_difference = set1.symmetric_difference(set2)\n",
    "print(\"Symmetric Difference:\", symmetric_difference)"
   ]
  },
  {
   "cell_type": "markdown",
   "id": "b94931e2",
   "metadata": {},
   "source": [
    "**59-Write a Python program to find the maximum and minimum values in a set"
   ]
  },
  {
   "cell_type": "code",
   "execution_count": 40,
   "id": "203f9600",
   "metadata": {},
   "outputs": [
    {
     "name": "stdout",
     "output_type": "stream",
     "text": [
      "6\n",
      "1\n"
     ]
    }
   ],
   "source": [
    "my_set = {1, 2, 3, 4, 5, 6}\n",
    "\n",
    "max_value = max(list(my_set))\n",
    "min_value = min(list(my_set))\n",
    "print(max_value)\n",
    "print(min_value)"
   ]
  },
  {
   "cell_type": "markdown",
   "id": "255fd554",
   "metadata": {},
   "source": [
    "**60- Write a Python program that finds all pairs of elements in a list whose sum is equal to a given value."
   ]
  },
  {
   "cell_type": "code",
   "execution_count": 43,
   "id": "c2d94e1f",
   "metadata": {},
   "outputs": [
    {
     "name": "stdout",
     "output_type": "stream",
     "text": [
      "6\n",
      "3\n",
      "3\n"
     ]
    }
   ],
   "source": [
    "my_list=[1,5,3,3,2,4,1,7]\n",
    "sum_value=int(input())\n",
    "for item in my_list:\n",
    "    if item+item==sum_value:\n",
    "        print(item)\n"
   ]
  }
 ],
 "metadata": {
  "kernelspec": {
   "display_name": "Python 3 (ipykernel)",
   "language": "python",
   "name": "python3"
  },
  "language_info": {
   "codemirror_mode": {
    "name": "ipython",
    "version": 3
   },
   "file_extension": ".py",
   "mimetype": "text/x-python",
   "name": "python",
   "nbconvert_exporter": "python",
   "pygments_lexer": "ipython3",
   "version": "3.11.3"
  }
 },
 "nbformat": 4,
 "nbformat_minor": 5
}

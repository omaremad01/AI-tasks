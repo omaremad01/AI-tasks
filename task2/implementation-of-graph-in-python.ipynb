{
 "cells": [
  {
   "cell_type": "code",
   "execution_count": 2,
   "id": "c7fb3ae2",
   "metadata": {},
   "outputs": [],
   "source": [
    "class Graph:\n",
    "    def __init__(self):\n",
    "        self.graph = {}\n",
    "\n",
    "    def add_vertex(self, v):\n",
    "        if v not in self.graph:\n",
    "            self.graph[v] = []\n",
    "\n",
    "    def add_edge(self, v1, v2):\n",
    "        if v1 not in self.graph:\n",
    "            self.graph[v1] = []\n",
    "        if v2 not in self.graph:\n",
    "            self.graph[v2] = []\n",
    "        self.graph[v1].append(v2)\n",
    "        self.graph[v2].append(v1)\n",
    "\n",
    "    def remove_vertex(self, v):\n",
    "        if v in self.graph:\n",
    "            del self.graph[v]\n",
    "            for vertex in self.graph:\n",
    "                if v in self.graph[vertex]:\n",
    "                    self.graph[vertex].remove(v)\n",
    "\n",
    "    def remove_edge(self, v1, v2):\n",
    "        if v1 in self.graph and v2 in self.graph:\n",
    "            if v2 in self.graph[v1]:\n",
    "                self.graph[v1].remove(v2)\n",
    "            if v1 in self.graph[v2]:\n",
    "                self.graph[v2].remove(v1)\n",
    "\n",
    "    def get_graph(self, v):\n",
    "        return self.graph[v]"
   ]
  },
  {
   "cell_type": "code",
   "execution_count": null,
   "id": "0c401d77",
   "metadata": {},
   "outputs": [],
   "source": []
  }
 ],
 "metadata": {
  "kernelspec": {
   "display_name": "Python 3 (ipykernel)",
   "language": "python",
   "name": "python3"
  },
  "language_info": {
   "codemirror_mode": {
    "name": "ipython",
    "version": 3
   },
   "file_extension": ".py",
   "mimetype": "text/x-python",
   "name": "python",
   "nbconvert_exporter": "python",
   "pygments_lexer": "ipython3",
   "version": "3.11.3"
  }
 },
 "nbformat": 4,
 "nbformat_minor": 5
}
